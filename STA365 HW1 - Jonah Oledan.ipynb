{
 "cells": [
  {
   "cell_type": "code",
   "execution_count": 11,
   "id": "a446a863",
   "metadata": {},
   "outputs": [
    {
     "data": {
      "text/plain": [
       "array([0])"
      ]
     },
     "execution_count": 11,
     "metadata": {},
     "output_type": "execute_result"
    }
   ],
   "source": [
    "from scipy import stats\n",
    "stats.binom(n=1,p=0.5).rvs(size=1)"
   ]
  },
  {
   "cell_type": "code",
   "execution_count": 8,
   "id": "63061c17",
   "metadata": {},
   "outputs": [
    {
     "name": "stdout",
     "output_type": "stream",
     "text": [
      "I print when `i` is 0\n",
      "I print when `i` is 3\n",
      "I print when `i` is 4\n",
      "I print when `i` is 9\n"
     ]
    }
   ],
   "source": [
    "for i in range(10):\n",
    "    if stats.binom(n=1,p=0.2).rvs(size=1) == 1:\n",
    "        print('I print when `i` is', i)"
   ]
  },
  {
   "cell_type": "code",
   "execution_count": 13,
   "id": "bb4a661c",
   "metadata": {},
   "outputs": [
    {
     "name": "stdout",
     "output_type": "stream",
     "text": [
      "I print when `i` is 0\n",
      "I print when `i` is 1\n",
      "I print when `i` is 4\n",
      "I print when `i` is 5\n",
      "I print when `i` is 6\n",
      "I print when `i` is 7\n",
      "I print when `i` is 8\n",
      "I print when `i` is 9\n"
     ]
    }
   ],
   "source": [
    "for i in range(10):\n",
    "    if stats.binom(n=1,p=0.4).rvs(size=1) == 1:\n",
    "        print('I print when `i` is', i)"
   ]
  },
  {
   "cell_type": "code",
   "execution_count": 14,
   "id": "8e56074f",
   "metadata": {},
   "outputs": [
    {
     "name": "stdout",
     "output_type": "stream",
     "text": [
      "I print when `i` is 1\n",
      "I print when `i` is 4\n",
      "I print when `i` is 5\n",
      "I print when `i` is 6\n",
      "I print when `i` is 7\n",
      "I print when `i` is 8\n",
      "I print when `i` is 9\n"
     ]
    }
   ],
   "source": [
    "for i in range(10):\n",
    "    if stats.binom(n=1,p=0.8).rvs(size=1) == 1:\n",
    "        print('I print when `i` is', i)"
   ]
  },
  {
   "cell_type": "code",
   "execution_count": 15,
   "id": "f661e2ef",
   "metadata": {},
   "outputs": [
    {
     "data": {
      "text/plain": [
       "0.9999999999999996"
      ]
     },
     "execution_count": 15,
     "metadata": {},
     "output_type": "execute_result"
    }
   ],
   "source": [
    "alpha,beta,n,x=2,2,5,11\n",
    "beta_distribution = stats.beta(a=1,b=1)\n",
    "beta_distribution.pdf(0.5)"
   ]
  },
  {
   "cell_type": "code",
   "execution_count": null,
   "id": "f11b0891",
   "metadata": {},
   "outputs": [],
   "source": []
  }
 ],
 "metadata": {
  "kernelspec": {
   "display_name": "Python 3 (ipykernel)",
   "language": "python",
   "name": "python3"
  },
  "language_info": {
   "codemirror_mode": {
    "name": "ipython",
    "version": 3
   },
   "file_extension": ".py",
   "mimetype": "text/x-python",
   "name": "python",
   "nbconvert_exporter": "python",
   "pygments_lexer": "ipython3",
   "version": "3.11.6"
  }
 },
 "nbformat": 4,
 "nbformat_minor": 5
}
